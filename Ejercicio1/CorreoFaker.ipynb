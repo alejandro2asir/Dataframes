{
 "cells": [
  {
   "cell_type": "code",
   "execution_count": 10,
   "metadata": {},
   "outputs": [],
   "source": [
    "import pandas as pd\n",
    "import matplotlib.pyplot as plt\n",
    "from random import randint\n",
    "from faker import Faker"
   ]
  },
  {
   "cell_type": "code",
   "execution_count": 15,
   "metadata": {},
   "outputs": [],
   "source": [
    "class BaseDatos:\n",
    "    def base(self):\n",
    "        global df\n",
    "        fake = Faker('es_ES')\n",
    "        df = pd.DataFrame(\n",
    "            columns = ('Nombre','Apellidos','Email','Telefono', 'Direccion')\n",
    "        )\n",
    "        aleatorio = randint(25,50)\n",
    "        for i in range(aleatorio):\n",
    "            stuff = [fake.first_name()\n",
    "                    , fake.last_name()\n",
    "                    , fake.email()\n",
    "                    , fake.phone_number()\n",
    "                    , fake.street_name()]\n",
    "            df.loc[i] = [item for item in stuff]"
   ]
  },
  {
   "cell_type": "code",
   "execution_count": 12,
   "metadata": {},
   "outputs": [
    {
     "name": "stdout",
     "output_type": "stream",
     "text": [
      "          Nombre  Apellidos                                  Email  \\\n",
      "0         Daniel       Luís               milagroshuguet@yahoo.com   \n",
      "1        Eduardo    Palacio                 jose-maria15@arnal.org   \n",
      "2         Emilia     Blasco       tomasfrancisco-javier@blanca.net   \n",
      "3         Javier     Molina                       nacedo@yahoo.com   \n",
      "4    Luis Miguel   Escudero            julio33@ponce-ballester.com   \n",
      "5         Aurora   Fabregat                 viglesia@higueras.info   \n",
      "6     Jose Ramon     Ibañez                    sofiamoll@gmail.com   \n",
      "7    Encarnacion    Arribas                     rosagema@gmail.com   \n",
      "8          Cesar     Acosta                    paula70@calleja.com   \n",
      "9    Luis Miguel     Frutos  francisco-javiermayoral@capdevila.com   \n",
      "10         Laura     Crespi           ribaclara@valencia-colom.com   \n",
      "11        Sergio     Feijoo                 urivas@ojeda-valls.com   \n",
      "12  Jose Antonio     Abella       dalmaunerea@antunez-martinez.net   \n",
      "13     Alejandro       Jaén       andresgascon@mercader-santos.com   \n",
      "14          Alex       Mesa             guillermo11@villalobos.net   \n",
      "15       Alfonso     Pulido                 martaleon@madrigal.com   \n",
      "16      Santiago    Pedraza            jose-ramonmorales@gmail.com   \n",
      "17        Emilia   Escudero                     namat@pujadas.info   \n",
      "18        Emilia      Seguí            alicia45@tirado-cadenas.biz   \n",
      "19        Esther     Ripoll    joaquinarenas@gonzalez-chamorro.com   \n",
      "20        Noelia     Llobet                   aurora11@mendoza.org   \n",
      "21          Gema      Casal                     dsalva@hotmail.com   \n",
      "22        Rafael    Bárcena           torralbajose-maria@yahoo.com   \n",
      "23          Joan      Serna                   andres91@anglada.com   \n",
      "24        Victor     Avilés                     everdugo@yahoo.com   \n",
      "25        Lorena       Grau                bermejoismael@gmail.com   \n",
      "26         Celia     Burgos                 correateresa@gmail.com   \n",
      "27     Esperanza      Vilar         gabaldonmontserrat@hotmail.com   \n",
      "28       Mohamed     Vicens                   auroraleon@segui.net   \n",
      "29       Soledad  Sacristán                         epoza@ruiz.net   \n",
      "30        Amparo   Palacios                  millanoelia@yahoo.com   \n",
      "31     Alejandra       Rios            juan-carloscepeda@yahoo.com   \n",
      "32        Marcos     Lobato            robertogonzalez@hotmail.com   \n",
      "\n",
      "            Telefono                     Direccion  \n",
      "0     +34681 674 279      Cuesta de Gema Velázquez  \n",
      "1     +34278 599 559       Urbanización Jose Tormo  \n",
      "2      +34 391749333   Urbanización Pedro Martínez  \n",
      "3   +34 117 56 54 07      Acceso Sebastian Alcázar  \n",
      "4    +34 616 525 842       Ronda Alfredo Navarrete  \n",
      "5     +34023 059 515     Paseo de Alejandra Aranda  \n",
      "6   +34 596 41 88 30        Avenida de Luís Espejo  \n",
      "7       +34760805440     Acceso de Angela Quintana  \n",
      "8      +34 819314025      Cañada Asunción Pellicer  \n",
      "9    +34412 45 32 63  Urbanización Catalina Rosado  \n",
      "10  +34 379 82 73 88   Plaza de Jose Miguel Blanch  \n",
      "11  +34 973 37 26 19           Acceso Julio Barros  \n",
      "12      +34238520861              Vial Sergio Ruiz  \n",
      "13      +34504690896               Plaza Raul Leon  \n",
      "14   +34298 58 22 03     Pasadizo de Elisa Palomar  \n",
      "15      +34525177011           Camino Noelia Prado  \n",
      "16    +34549 608 129            Vial Amparo Iborra  \n",
      "17  +34 065 32 90 44        Calle de Domingo Prada  \n",
      "18      +34474642719          C. de Consuelo Novoa  \n",
      "19    +34730 074 094       Alameda de Aitor Suarez  \n",
      "20      +34716277013       Paseo de Lucía Zabaleta  \n",
      "21     +34 858780170            Ronda Manuel Palma  \n",
      "22     +34 550613055     Rambla de Begoña Gabaldón  \n",
      "23   +34444 79 65 32    Callejón de Victor Cabello  \n",
      "24  +34 452 58 55 77  Glorieta de Margarita Fuente  \n",
      "25   +34244 97 60 41        Pasaje de Pilar Alcalá  \n",
      "26   +34 174 980 357        Callejón de Julia Tena  \n",
      "27    +34714 536 957       Plaza de Claudia Burgos  \n",
      "28  +34 573 55 28 99            Camino Felix Carbó  \n",
      "29   +34 560 144 271           Via de Andrés Cerro  \n",
      "30   +34 827 215 262    Avenida de Alejandro Tovar  \n",
      "31   +34172 07 25 41     Glorieta de Marina Valdés  \n",
      "32   +34813 41 01 21       C. Francisco Valenzuela  \n"
     ]
    }
   ],
   "source": [
    "dataframe = BaseDatos()\n",
    "dataframe.base()\n",
    "print(df)"
   ]
  },
  {
   "cell_type": "code",
   "execution_count": 13,
   "metadata": {},
   "outputs": [
    {
     "data": {
      "image/png": "[encoded data removed]",
      "text/plain": [
       "<Figure size 432x288 with 1 Axes>"
      ]
     },
     "metadata": {
      "needs_background": "light"
     },
     "output_type": "display_data"
    }
   ],
   "source": [
    "recorte = df['Email'].str.split('@').str[1]\n",
    "dataframe = recorte.value_counts().plot(kind='bar')"
   ]
  },
  {
   "cell_type": "code",
   "execution_count": null,
   "metadata": {},
   "outputs": [],
   "source": []
  }
 ],
 "metadata": {
  "kernelspec": {
   "display_name": "Python 3",
   "language": "python",
   "name": "python3"
  },
  "language_info": {
   "codemirror_mode": {
    "name": "ipython",
    "version": 3
   },
   "file_extension": ".py",
   "mimetype": "text/x-python",
   "name": "python",
   "nbconvert_exporter": "python",
   "pygments_lexer": "ipython3",
   "version": "3.7.3"
  }
 },
 "nbformat": 4,
 "nbformat_minor": 2
}
